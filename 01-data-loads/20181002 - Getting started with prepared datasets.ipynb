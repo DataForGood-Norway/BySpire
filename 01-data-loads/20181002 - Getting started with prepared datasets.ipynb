{
 "cells": [
  {
   "cell_type": "markdown",
   "metadata": {},
   "source": [
    "# Connecting to prepared datasets!\n",
    "\n",
    "### step 1: update your local copy of the data\n",
    "\n",
    "Set up rclone as described in README.md"
   ]
  },
  {
   "cell_type": "code",
   "execution_count": null,
   "metadata": {},
   "outputs": [],
   "source": [
    "# make directory if it doesn't exist\n",
    "!mkdir -p ../data/Measurements\n",
    "\n",
    "# only sync down the prepared datasets folder\n",
    "!rclone sync vfa-Measurements:/prepared-datasets ../data/Measurements/prepared-datasets"
   ]
  },
  {
   "cell_type": "markdown",
   "metadata": {},
   "source": [
    "### step 2: \n",
    "Make sure you've created a conda environment with the necessary packages (`vfa-01`).\n",
    "At least `pandas` and `pyarrow` are required."
   ]
  },
  {
   "cell_type": "code",
   "execution_count": null,
   "metadata": {},
   "outputs": [],
   "source": [
    "# option 1: just use pandas\n",
    "\n",
    "import pandas as pd\n",
    "pd.set_option('display.max_rows', 10)\n",
    "\n",
    "df_sensor_data = pd.read_parquet(\"../data/Measurements/prepared-datasets/sensor_data_parquet\")\n",
    "df_sensor_data"
   ]
  },
  {
   "cell_type": "code",
   "execution_count": null,
   "metadata": {},
   "outputs": [],
   "source": [
    "# option 2: can take advantage of pyarrow and parquet\n",
    "\n",
    "import pyarrow.parquet as pa\n",
    "tab_sensor_data = pa.read_pandas(\"../data/Measurements/prepared-datasets/sensor_data_parquet\")\n",
    "tab_sensor_data"
   ]
  }
 ],
 "metadata": {
  "kernelspec": {
   "display_name": "Python [conda env:vfa-01]",
   "language": "python",
   "name": "conda-env-vfa-01-py"
  },
  "language_info": {
   "codemirror_mode": {
    "name": "ipython",
    "version": 3
   },
   "file_extension": ".py",
   "mimetype": "text/x-python",
   "name": "python",
   "nbconvert_exporter": "python",
   "pygments_lexer": "ipython3",
   "version": "3.5.6"
  }
 },
 "nbformat": 4,
 "nbformat_minor": 2
}
